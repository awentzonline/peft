{
 "cells": [
  {
   "cell_type": "code",
   "execution_count": null,
   "id": "71fbfca2",
   "metadata": {},
   "outputs": [],
   "source": [
    "from transformers import AutoModelForCausalLM\n",
    "from peft import get_peft_config, get_peft_model, HRRAAConfig, HRRAAModel, TaskType, PeftType\n",
    "import torch\n",
    "from datasets import load_dataset\n",
    "import os\n",
    "from transformers import AutoTokenizer\n",
    "from torch.utils.data import DataLoader\n",
    "from transformers import default_data_collator, get_linear_schedule_with_warmup\n",
    "from tqdm import tqdm\n",
    "from datasets import load_dataset\n",
    "# progress bar was causing problems with vscode jupyter for some reason\n",
    "import datasets\n",
    "datasets.disable_progress_bar()\n",
    "\n",
    "device = \"cpu\"\n",
    "model_name_or_path = \"bigscience/bloomz-560m\"\n",
    "tokenizer_name_or_path = \"bigscience/bloomz-560m\"\n",
    "peft_config = HRRAAConfig(\n",
    "    task_type=TaskType.CAUSAL_LM,\n",
    "    target_modules='self_attention',\n",
    "    adapter_layers=1,\n",
    ")\n",
    "\n",
    "dataset_name = \"twitter_complaints\"\n",
    "checkpoint_name = f\"{dataset_name}_{model_name_or_path}_{peft_config.peft_type}_{peft_config.task_type}_v1.pt\".replace(\n",
    "    \"/\", \"_\"\n",
    ")\n",
    "text_column = \"Tweet text\"\n",
    "\n",
    "label_column = \"text_label\"\n",
    "max_length = 64\n",
    "lr = 3e-2\n",
    "num_epochs = 50\n",
    "batch_size = 8"
   ]
  },
  {
   "cell_type": "code",
   "execution_count": 2,
   "id": "e1a3648b",
   "metadata": {},
   "outputs": [
    {
     "name": "stdout",
     "output_type": "stream",
     "text": [
      "['Unlabeled', 'complaint', 'no complaint']\n",
      "DatasetDict({\n",
      "    train: Dataset({\n",
      "        features: ['Tweet text', 'ID', 'Label', 'text_label'],\n",
      "        num_rows: 50\n",
      "    })\n",
      "    test: Dataset({\n",
      "        features: ['Tweet text', 'ID', 'Label', 'text_label'],\n",
      "        num_rows: 3399\n",
      "    })\n",
      "})\n"
     ]
    },
    {
     "data": {
      "text/plain": [
       "{'Tweet text': '@HMRCcustomers No this is my first job',\n",
       " 'ID': 0,\n",
       " 'Label': 2,\n",
       " 'text_label': 'no complaint'}"
      ]
     },
     "execution_count": 2,
     "metadata": {},
     "output_type": "execute_result"
    }
   ],
   "source": [
    "from datasets import load_dataset\n",
    "\n",
    "dataset = load_dataset(\"ought/raft\", dataset_name, trust_remote_code=True)\n",
    "\n",
    "classes = [k.replace(\"_\", \" \") for k in dataset[\"train\"].features[\"Label\"].names]\n",
    "print(classes)\n",
    "dataset = dataset.map(\n",
    "    lambda x: {\"text_label\": [classes[label] for label in x[\"Label\"]]},\n",
    "    batched=True,\n",
    "    num_proc=None,\n",
    ")\n",
    "print(dataset)\n",
    "dataset[\"train\"][0]"
   ]
  },
  {
   "cell_type": "code",
   "execution_count": 3,
   "id": "fe12d4d3",
   "metadata": {},
   "outputs": [
    {
     "name": "stdout",
     "output_type": "stream",
     "text": [
      "3\n",
      "mapit\n",
      "proc\n",
      "proc\n",
      "proc\n",
      "proc\n",
      "proc\n"
     ]
    }
   ],
   "source": [
    "# data preprocessing\n",
    "tokenizer = AutoTokenizer.from_pretrained(model_name_or_path)\n",
    "if tokenizer.pad_token_id is None:\n",
    "    tokenizer.pad_token_id = tokenizer.eos_token_id\n",
    "target_max_length = max([len(tokenizer(class_label)[\"input_ids\"]) for class_label in classes])\n",
    "print(target_max_length)\n",
    "\n",
    "\n",
    "def preprocess_function(examples):\n",
    "    print('proc')\n",
    "    batch_size = len(examples[text_column])\n",
    "    inputs = [f\"{text_column} : {x} Label : \" for x in examples[text_column]]\n",
    "    targets = [str(x) for x in examples[label_column]]\n",
    "    model_inputs = tokenizer(inputs)\n",
    "    labels = tokenizer(targets, add_special_tokens=False)  # don't add bos token because we concatenate with inputs\n",
    "    for i in range(batch_size):\n",
    "        sample_input_ids = model_inputs[\"input_ids\"][i]\n",
    "        label_input_ids = labels[\"input_ids\"][i] + [tokenizer.eos_token_id]\n",
    "        # print(i, sample_input_ids, label_input_ids)\n",
    "        model_inputs[\"input_ids\"][i] = sample_input_ids + label_input_ids\n",
    "        labels[\"input_ids\"][i] = [-100] * len(sample_input_ids) + label_input_ids\n",
    "        model_inputs[\"attention_mask\"][i] = [1] * len(model_inputs[\"input_ids\"][i])\n",
    "    # print(model_inputs)\n",
    "    for i in range(batch_size):\n",
    "        sample_input_ids = model_inputs[\"input_ids\"][i]\n",
    "        label_input_ids = labels[\"input_ids\"][i]\n",
    "        model_inputs[\"input_ids\"][i] = [tokenizer.pad_token_id] * (\n",
    "            max_length - len(sample_input_ids)\n",
    "        ) + sample_input_ids\n",
    "        model_inputs[\"attention_mask\"][i] = [0] * (max_length - len(sample_input_ids)) + model_inputs[\n",
    "            \"attention_mask\"\n",
    "        ][i]\n",
    "        labels[\"input_ids\"][i] = [-100] * (max_length - len(sample_input_ids)) + label_input_ids\n",
    "        model_inputs[\"input_ids\"][i] = torch.tensor(model_inputs[\"input_ids\"][i][:max_length])\n",
    "        model_inputs[\"attention_mask\"][i] = torch.tensor(model_inputs[\"attention_mask\"][i][:max_length])\n",
    "        labels[\"input_ids\"][i] = torch.tensor(labels[\"input_ids\"][i][:max_length])\n",
    "    model_inputs[\"labels\"] = labels[\"input_ids\"]\n",
    "    return model_inputs\n",
    "\n",
    "print('mapit')\n",
    "processed_datasets = dataset.map(\n",
    "    preprocess_function,\n",
    "    batched=True,\n",
    "    num_proc=None,\n",
    "    remove_columns=dataset[\"train\"].column_names,\n",
    "    load_from_cache_file=False,\n",
    "    desc=\"Running tokenizer on dataset\",\n",
    ")\n",
    "\n",
    "train_dataset = processed_datasets[\"train\"]\n",
    "eval_dataset = processed_datasets[\"train\"]\n",
    "\n",
    "\n",
    "train_dataloader = DataLoader(\n",
    "    train_dataset, shuffle=True, collate_fn=default_data_collator, batch_size=batch_size, pin_memory=True\n",
    ")\n",
    "eval_dataloader = DataLoader(eval_dataset, collate_fn=default_data_collator, batch_size=batch_size, pin_memory=True)"
   ]
  },
  {
   "cell_type": "code",
   "execution_count": null,
   "id": "641b21fe",
   "metadata": {},
   "outputs": [],
   "source": [
    "def test_preprocess_function(examples):\n",
    "    batch_size = len(examples[text_column])\n",
    "    inputs = [f\"{text_column} : {x} Label : \" for x in examples[text_column]]\n",
    "    model_inputs = tokenizer(inputs)\n",
    "    # print(model_inputs)\n",
    "    for i in range(batch_size):\n",
    "        sample_input_ids = model_inputs[\"input_ids\"][i]\n",
    "        model_inputs[\"input_ids\"][i] = [tokenizer.pad_token_id] * (\n",
    "            max_length - len(sample_input_ids)\n",
    "        ) + sample_input_ids\n",
    "        model_inputs[\"attention_mask\"][i] = [0] * (max_length - len(sample_input_ids)) + model_inputs[\n",
    "            \"attention_mask\"\n",
    "        ][i]\n",
    "        model_inputs[\"input_ids\"][i] = torch.tensor(model_inputs[\"input_ids\"][i][:max_length])\n",
    "        model_inputs[\"attention_mask\"][i] = torch.tensor(model_inputs[\"attention_mask\"][i][:max_length])\n",
    "    return model_inputs\n",
    "\n",
    "\n",
    "test_dataset = dataset[\"test\"].map(\n",
    "    test_preprocess_function,\n",
    "    batched=True,\n",
    "    num_proc=None,\n",
    "    remove_columns=dataset[\"train\"].column_names,\n",
    "    load_from_cache_file=False,\n",
    "    desc=\"Running tokenizer on dataset\",\n",
    ")\n",
    "\n",
    "test_dataloader = DataLoader(test_dataset, collate_fn=default_data_collator, batch_size=batch_size, pin_memory=True)\n",
    "next(iter(test_dataloader))"
   ]
  },
  {
   "cell_type": "code",
   "execution_count": null,
   "id": "accc5012",
   "metadata": {},
   "outputs": [],
   "source": [
    "next(iter(train_dataloader))"
   ]
  },
  {
   "cell_type": "code",
   "execution_count": 6,
   "id": "218df807",
   "metadata": {},
   "outputs": [
    {
     "data": {
      "text/plain": [
       "425"
      ]
     },
     "execution_count": 6,
     "metadata": {},
     "output_type": "execute_result"
    }
   ],
   "source": [
    "len(test_dataloader)"
   ]
  },
  {
   "cell_type": "code",
   "execution_count": null,
   "id": "47d1fedf",
   "metadata": {},
   "outputs": [],
   "source": [
    "next(iter(test_dataloader))"
   ]
  },
  {
   "cell_type": "code",
   "execution_count": 8,
   "id": "a773e092",
   "metadata": {},
   "outputs": [
    {
     "name": "stdout",
     "output_type": "stream",
     "text": [
      "BloomForCausalLM(\n",
      "  (transformer): BloomModel(\n",
      "    (word_embeddings): Embedding(250880, 1024)\n",
      "    (word_embeddings_layernorm): LayerNorm((1024,), eps=1e-05, elementwise_affine=True)\n",
      "    (h): ModuleList(\n",
      "      (0-23): 24 x BloomBlock(\n",
      "        (input_layernorm): LayerNorm((1024,), eps=1e-05, elementwise_affine=True)\n",
      "        (self_attention): BloomAttention(\n",
      "          (query_key_value): Linear(in_features=1024, out_features=3072, bias=True)\n",
      "          (dense): Linear(in_features=1024, out_features=1024, bias=True)\n",
      "          (attention_dropout): Dropout(p=0.0, inplace=False)\n",
      "        )\n",
      "        (post_attention_layernorm): LayerNorm((1024,), eps=1e-05, elementwise_affine=True)\n",
      "        (mlp): BloomMLP(\n",
      "          (dense_h_to_4h): Linear(in_features=1024, out_features=4096, bias=True)\n",
      "          (gelu_impl): BloomGelu()\n",
      "          (dense_4h_to_h): Linear(in_features=4096, out_features=1024, bias=True)\n",
      "        )\n",
      "      )\n",
      "    )\n",
      "    (ln_f): LayerNorm((1024,), eps=1e-05, elementwise_affine=True)\n",
      "  )\n",
      "  (lm_head): Linear(in_features=1024, out_features=250880, bias=False)\n",
      ")\n",
      "transformer.word_embeddings.weight False\n",
      "transformer.word_embeddings_layernorm.weight False\n",
      "transformer.word_embeddings_layernorm.bias False\n",
      "transformer.h.0.input_layernorm.weight False\n",
      "transformer.h.0.input_layernorm.bias False\n",
      "transformer.h.0.self_attention.query_key_value.weight False\n",
      "transformer.h.0.self_attention.query_key_value.bias False\n",
      "transformer.h.0.self_attention.dense.weight False\n",
      "transformer.h.0.self_attention.dense.bias False\n",
      "transformer.h.0.post_attention_layernorm.weight False\n",
      "transformer.h.0.post_attention_layernorm.bias False\n",
      "transformer.h.0.mlp.dense_h_to_4h.weight False\n",
      "transformer.h.0.mlp.dense_h_to_4h.bias False\n",
      "transformer.h.0.mlp.dense_4h_to_h.weight False\n",
      "transformer.h.0.mlp.dense_4h_to_h.bias False\n",
      "transformer.h.1.input_layernorm.weight False\n",
      "transformer.h.1.input_layernorm.bias False\n",
      "transformer.h.1.self_attention.query_key_value.weight False\n",
      "transformer.h.1.self_attention.query_key_value.bias False\n",
      "transformer.h.1.self_attention.dense.weight False\n",
      "transformer.h.1.self_attention.dense.bias False\n",
      "transformer.h.1.post_attention_layernorm.weight False\n",
      "transformer.h.1.post_attention_layernorm.bias False\n",
      "transformer.h.1.mlp.dense_h_to_4h.weight False\n",
      "transformer.h.1.mlp.dense_h_to_4h.bias False\n",
      "transformer.h.1.mlp.dense_4h_to_h.weight False\n",
      "transformer.h.1.mlp.dense_4h_to_h.bias False\n",
      "transformer.h.2.input_layernorm.weight False\n",
      "transformer.h.2.input_layernorm.bias False\n",
      "transformer.h.2.self_attention.query_key_value.weight False\n",
      "transformer.h.2.self_attention.query_key_value.bias False\n",
      "transformer.h.2.self_attention.dense.weight False\n",
      "transformer.h.2.self_attention.dense.bias False\n",
      "transformer.h.2.post_attention_layernorm.weight False\n",
      "transformer.h.2.post_attention_layernorm.bias False\n",
      "transformer.h.2.mlp.dense_h_to_4h.weight False\n",
      "transformer.h.2.mlp.dense_h_to_4h.bias False\n",
      "transformer.h.2.mlp.dense_4h_to_h.weight False\n",
      "transformer.h.2.mlp.dense_4h_to_h.bias False\n",
      "transformer.h.3.input_layernorm.weight False\n",
      "transformer.h.3.input_layernorm.bias False\n",
      "transformer.h.3.self_attention.query_key_value.weight False\n",
      "transformer.h.3.self_attention.query_key_value.bias False\n",
      "transformer.h.3.self_attention.dense.weight False\n",
      "transformer.h.3.self_attention.dense.bias False\n",
      "transformer.h.3.post_attention_layernorm.weight False\n",
      "transformer.h.3.post_attention_layernorm.bias False\n",
      "transformer.h.3.mlp.dense_h_to_4h.weight False\n",
      "transformer.h.3.mlp.dense_h_to_4h.bias False\n",
      "transformer.h.3.mlp.dense_4h_to_h.weight False\n",
      "transformer.h.3.mlp.dense_4h_to_h.bias False\n",
      "transformer.h.4.input_layernorm.weight False\n",
      "transformer.h.4.input_layernorm.bias False\n",
      "transformer.h.4.self_attention.query_key_value.weight False\n",
      "transformer.h.4.self_attention.query_key_value.bias False\n",
      "transformer.h.4.self_attention.dense.weight False\n",
      "transformer.h.4.self_attention.dense.bias False\n",
      "transformer.h.4.post_attention_layernorm.weight False\n",
      "transformer.h.4.post_attention_layernorm.bias False\n",
      "transformer.h.4.mlp.dense_h_to_4h.weight False\n",
      "transformer.h.4.mlp.dense_h_to_4h.bias False\n",
      "transformer.h.4.mlp.dense_4h_to_h.weight False\n",
      "transformer.h.4.mlp.dense_4h_to_h.bias False\n",
      "transformer.h.5.input_layernorm.weight False\n",
      "transformer.h.5.input_layernorm.bias False\n",
      "transformer.h.5.self_attention.query_key_value.weight False\n",
      "transformer.h.5.self_attention.query_key_value.bias False\n",
      "transformer.h.5.self_attention.dense.weight False\n",
      "transformer.h.5.self_attention.dense.bias False\n",
      "transformer.h.5.post_attention_layernorm.weight False\n",
      "transformer.h.5.post_attention_layernorm.bias False\n",
      "transformer.h.5.mlp.dense_h_to_4h.weight False\n",
      "transformer.h.5.mlp.dense_h_to_4h.bias False\n",
      "transformer.h.5.mlp.dense_4h_to_h.weight False\n",
      "transformer.h.5.mlp.dense_4h_to_h.bias False\n",
      "transformer.h.6.input_layernorm.weight False\n",
      "transformer.h.6.input_layernorm.bias False\n",
      "transformer.h.6.self_attention.query_key_value.weight False\n",
      "transformer.h.6.self_attention.query_key_value.bias False\n",
      "transformer.h.6.self_attention.dense.weight False\n",
      "transformer.h.6.self_attention.dense.bias False\n",
      "transformer.h.6.post_attention_layernorm.weight False\n",
      "transformer.h.6.post_attention_layernorm.bias False\n",
      "transformer.h.6.mlp.dense_h_to_4h.weight False\n",
      "transformer.h.6.mlp.dense_h_to_4h.bias False\n",
      "transformer.h.6.mlp.dense_4h_to_h.weight False\n",
      "transformer.h.6.mlp.dense_4h_to_h.bias False\n",
      "transformer.h.7.input_layernorm.weight False\n",
      "transformer.h.7.input_layernorm.bias False\n",
      "transformer.h.7.self_attention.query_key_value.weight False\n",
      "transformer.h.7.self_attention.query_key_value.bias False\n",
      "transformer.h.7.self_attention.dense.weight False\n",
      "transformer.h.7.self_attention.dense.bias False\n",
      "transformer.h.7.post_attention_layernorm.weight False\n",
      "transformer.h.7.post_attention_layernorm.bias False\n",
      "transformer.h.7.mlp.dense_h_to_4h.weight False\n",
      "transformer.h.7.mlp.dense_h_to_4h.bias False\n",
      "transformer.h.7.mlp.dense_4h_to_h.weight False\n",
      "transformer.h.7.mlp.dense_4h_to_h.bias False\n",
      "transformer.h.8.input_layernorm.weight False\n",
      "transformer.h.8.input_layernorm.bias False\n",
      "transformer.h.8.self_attention.query_key_value.weight False\n",
      "transformer.h.8.self_attention.query_key_value.bias False\n",
      "transformer.h.8.self_attention.dense.weight False\n",
      "transformer.h.8.self_attention.dense.bias False\n",
      "transformer.h.8.post_attention_layernorm.weight False\n",
      "transformer.h.8.post_attention_layernorm.bias False\n",
      "transformer.h.8.mlp.dense_h_to_4h.weight False\n",
      "transformer.h.8.mlp.dense_h_to_4h.bias False\n",
      "transformer.h.8.mlp.dense_4h_to_h.weight False\n",
      "transformer.h.8.mlp.dense_4h_to_h.bias False\n",
      "transformer.h.9.input_layernorm.weight False\n",
      "transformer.h.9.input_layernorm.bias False\n",
      "transformer.h.9.self_attention.query_key_value.weight False\n",
      "transformer.h.9.self_attention.query_key_value.bias False\n",
      "transformer.h.9.self_attention.dense.weight False\n",
      "transformer.h.9.self_attention.dense.bias False\n",
      "transformer.h.9.post_attention_layernorm.weight False\n",
      "transformer.h.9.post_attention_layernorm.bias False\n",
      "transformer.h.9.mlp.dense_h_to_4h.weight False\n",
      "transformer.h.9.mlp.dense_h_to_4h.bias False\n",
      "transformer.h.9.mlp.dense_4h_to_h.weight False\n",
      "transformer.h.9.mlp.dense_4h_to_h.bias False\n",
      "transformer.h.10.input_layernorm.weight False\n",
      "transformer.h.10.input_layernorm.bias False\n",
      "transformer.h.10.self_attention.query_key_value.weight False\n",
      "transformer.h.10.self_attention.query_key_value.bias False\n",
      "transformer.h.10.self_attention.dense.weight False\n",
      "transformer.h.10.self_attention.dense.bias False\n",
      "transformer.h.10.post_attention_layernorm.weight False\n",
      "transformer.h.10.post_attention_layernorm.bias False\n",
      "transformer.h.10.mlp.dense_h_to_4h.weight False\n",
      "transformer.h.10.mlp.dense_h_to_4h.bias False\n",
      "transformer.h.10.mlp.dense_4h_to_h.weight False\n",
      "transformer.h.10.mlp.dense_4h_to_h.bias False\n",
      "transformer.h.11.input_layernorm.weight False\n",
      "transformer.h.11.input_layernorm.bias False\n",
      "transformer.h.11.self_attention.query_key_value.weight False\n",
      "transformer.h.11.self_attention.query_key_value.bias False\n",
      "transformer.h.11.self_attention.dense.weight False\n",
      "transformer.h.11.self_attention.dense.bias False\n",
      "transformer.h.11.post_attention_layernorm.weight False\n",
      "transformer.h.11.post_attention_layernorm.bias False\n",
      "transformer.h.11.mlp.dense_h_to_4h.weight False\n",
      "transformer.h.11.mlp.dense_h_to_4h.bias False\n",
      "transformer.h.11.mlp.dense_4h_to_h.weight False\n",
      "transformer.h.11.mlp.dense_4h_to_h.bias False\n",
      "transformer.h.12.input_layernorm.weight False\n",
      "transformer.h.12.input_layernorm.bias False\n",
      "transformer.h.12.self_attention.query_key_value.weight False\n",
      "transformer.h.12.self_attention.query_key_value.bias False\n",
      "transformer.h.12.self_attention.dense.weight False\n",
      "transformer.h.12.self_attention.dense.bias False\n",
      "transformer.h.12.post_attention_layernorm.weight False\n",
      "transformer.h.12.post_attention_layernorm.bias False\n",
      "transformer.h.12.mlp.dense_h_to_4h.weight False\n",
      "transformer.h.12.mlp.dense_h_to_4h.bias False\n",
      "transformer.h.12.mlp.dense_4h_to_h.weight False\n",
      "transformer.h.12.mlp.dense_4h_to_h.bias False\n",
      "transformer.h.13.input_layernorm.weight False\n",
      "transformer.h.13.input_layernorm.bias False\n",
      "transformer.h.13.self_attention.query_key_value.weight False\n",
      "transformer.h.13.self_attention.query_key_value.bias False\n",
      "transformer.h.13.self_attention.dense.weight False\n",
      "transformer.h.13.self_attention.dense.bias False\n",
      "transformer.h.13.post_attention_layernorm.weight False\n",
      "transformer.h.13.post_attention_layernorm.bias False\n",
      "transformer.h.13.mlp.dense_h_to_4h.weight False\n",
      "transformer.h.13.mlp.dense_h_to_4h.bias False\n",
      "transformer.h.13.mlp.dense_4h_to_h.weight False\n",
      "transformer.h.13.mlp.dense_4h_to_h.bias False\n",
      "transformer.h.14.input_layernorm.weight False\n",
      "transformer.h.14.input_layernorm.bias False\n",
      "transformer.h.14.self_attention.query_key_value.weight False\n",
      "transformer.h.14.self_attention.query_key_value.bias False\n",
      "transformer.h.14.self_attention.dense.weight False\n",
      "transformer.h.14.self_attention.dense.bias False\n",
      "transformer.h.14.post_attention_layernorm.weight False\n",
      "transformer.h.14.post_attention_layernorm.bias False\n",
      "transformer.h.14.mlp.dense_h_to_4h.weight False\n",
      "transformer.h.14.mlp.dense_h_to_4h.bias False\n",
      "transformer.h.14.mlp.dense_4h_to_h.weight False\n",
      "transformer.h.14.mlp.dense_4h_to_h.bias False\n",
      "transformer.h.15.input_layernorm.weight False\n",
      "transformer.h.15.input_layernorm.bias False\n",
      "transformer.h.15.self_attention.query_key_value.weight False\n",
      "transformer.h.15.self_attention.query_key_value.bias False\n",
      "transformer.h.15.self_attention.dense.weight False\n",
      "transformer.h.15.self_attention.dense.bias False\n",
      "transformer.h.15.post_attention_layernorm.weight False\n",
      "transformer.h.15.post_attention_layernorm.bias False\n",
      "transformer.h.15.mlp.dense_h_to_4h.weight False\n",
      "transformer.h.15.mlp.dense_h_to_4h.bias False\n",
      "transformer.h.15.mlp.dense_4h_to_h.weight False\n",
      "transformer.h.15.mlp.dense_4h_to_h.bias False\n",
      "transformer.h.16.input_layernorm.weight False\n",
      "transformer.h.16.input_layernorm.bias False\n",
      "transformer.h.16.self_attention.query_key_value.weight False\n",
      "transformer.h.16.self_attention.query_key_value.bias False\n",
      "transformer.h.16.self_attention.dense.weight False\n",
      "transformer.h.16.self_attention.dense.bias False\n",
      "transformer.h.16.post_attention_layernorm.weight False\n",
      "transformer.h.16.post_attention_layernorm.bias False\n",
      "transformer.h.16.mlp.dense_h_to_4h.weight False\n",
      "transformer.h.16.mlp.dense_h_to_4h.bias False\n",
      "transformer.h.16.mlp.dense_4h_to_h.weight False\n",
      "transformer.h.16.mlp.dense_4h_to_h.bias False\n",
      "transformer.h.17.input_layernorm.weight False\n",
      "transformer.h.17.input_layernorm.bias False\n",
      "transformer.h.17.self_attention.query_key_value.weight False\n",
      "transformer.h.17.self_attention.query_key_value.bias False\n",
      "transformer.h.17.self_attention.dense.weight False\n",
      "transformer.h.17.self_attention.dense.bias False\n",
      "transformer.h.17.post_attention_layernorm.weight False\n",
      "transformer.h.17.post_attention_layernorm.bias False\n",
      "transformer.h.17.mlp.dense_h_to_4h.weight False\n",
      "transformer.h.17.mlp.dense_h_to_4h.bias False\n",
      "transformer.h.17.mlp.dense_4h_to_h.weight False\n",
      "transformer.h.17.mlp.dense_4h_to_h.bias False\n",
      "transformer.h.18.input_layernorm.weight False\n",
      "transformer.h.18.input_layernorm.bias False\n",
      "transformer.h.18.self_attention.query_key_value.weight False\n",
      "transformer.h.18.self_attention.query_key_value.bias False\n",
      "transformer.h.18.self_attention.dense.weight False\n",
      "transformer.h.18.self_attention.dense.bias False\n",
      "transformer.h.18.post_attention_layernorm.weight False\n",
      "transformer.h.18.post_attention_layernorm.bias False\n",
      "transformer.h.18.mlp.dense_h_to_4h.weight False\n",
      "transformer.h.18.mlp.dense_h_to_4h.bias False\n",
      "transformer.h.18.mlp.dense_4h_to_h.weight False\n",
      "transformer.h.18.mlp.dense_4h_to_h.bias False\n",
      "transformer.h.19.input_layernorm.weight False\n",
      "transformer.h.19.input_layernorm.bias False\n",
      "transformer.h.19.self_attention.query_key_value.weight False\n",
      "transformer.h.19.self_attention.query_key_value.bias False\n",
      "transformer.h.19.self_attention.dense.weight False\n",
      "transformer.h.19.self_attention.dense.bias False\n",
      "transformer.h.19.post_attention_layernorm.weight False\n",
      "transformer.h.19.post_attention_layernorm.bias False\n",
      "transformer.h.19.mlp.dense_h_to_4h.weight False\n",
      "transformer.h.19.mlp.dense_h_to_4h.bias False\n",
      "transformer.h.19.mlp.dense_4h_to_h.weight False\n",
      "transformer.h.19.mlp.dense_4h_to_h.bias False\n",
      "transformer.h.20.input_layernorm.weight False\n",
      "transformer.h.20.input_layernorm.bias False\n",
      "transformer.h.20.self_attention.query_key_value.weight False\n",
      "transformer.h.20.self_attention.query_key_value.bias False\n",
      "transformer.h.20.self_attention.dense.weight False\n",
      "transformer.h.20.self_attention.dense.bias False\n",
      "transformer.h.20.post_attention_layernorm.weight False\n",
      "transformer.h.20.post_attention_layernorm.bias False\n",
      "transformer.h.20.mlp.dense_h_to_4h.weight False\n",
      "transformer.h.20.mlp.dense_h_to_4h.bias False\n",
      "transformer.h.20.mlp.dense_4h_to_h.weight False\n",
      "transformer.h.20.mlp.dense_4h_to_h.bias False\n",
      "transformer.h.21.input_layernorm.weight False\n",
      "transformer.h.21.input_layernorm.bias False\n",
      "transformer.h.21.self_attention.query_key_value.weight False\n",
      "transformer.h.21.self_attention.query_key_value.bias False\n",
      "transformer.h.21.self_attention.dense.weight False\n",
      "transformer.h.21.self_attention.dense.bias False\n",
      "transformer.h.21.post_attention_layernorm.weight False\n",
      "transformer.h.21.post_attention_layernorm.bias False\n",
      "transformer.h.21.mlp.dense_h_to_4h.weight False\n",
      "transformer.h.21.mlp.dense_h_to_4h.bias False\n",
      "transformer.h.21.mlp.dense_4h_to_h.weight False\n",
      "transformer.h.21.mlp.dense_4h_to_h.bias False\n",
      "transformer.h.22.input_layernorm.weight False\n",
      "transformer.h.22.input_layernorm.bias False\n",
      "transformer.h.22.self_attention.query_key_value.weight False\n",
      "transformer.h.22.self_attention.query_key_value.bias False\n",
      "transformer.h.22.self_attention.dense.weight False\n",
      "transformer.h.22.self_attention.dense.bias False\n",
      "transformer.h.22.post_attention_layernorm.weight False\n",
      "transformer.h.22.post_attention_layernorm.bias False\n",
      "transformer.h.22.mlp.dense_h_to_4h.weight False\n",
      "transformer.h.22.mlp.dense_h_to_4h.bias False\n",
      "transformer.h.22.mlp.dense_4h_to_h.weight False\n",
      "transformer.h.22.mlp.dense_4h_to_h.bias False\n",
      "transformer.h.23.input_layernorm.weight False\n",
      "transformer.h.23.input_layernorm.bias False\n",
      "transformer.h.23.self_attention.hrraa_adaption_gate True\n",
      "transformer.h.23.self_attention.model.query_key_value.weight False\n",
      "transformer.h.23.self_attention.model.query_key_value.bias False\n",
      "transformer.h.23.self_attention.model.dense.weight False\n",
      "transformer.h.23.self_attention.model.dense.bias False\n",
      "transformer.h.23.self_attention.hrraa_query.0.weight True\n",
      "transformer.h.23.self_attention.hrraa_query.0.bias True\n",
      "transformer.h.23.self_attention.hrraa_key.0.weight True\n",
      "transformer.h.23.self_attention.hrraa_key.0.bias True\n",
      "transformer.h.23.self_attention.hrraa_value.0.weight True\n",
      "transformer.h.23.self_attention.hrraa_value.0.bias True\n",
      "transformer.h.23.post_attention_layernorm.weight False\n",
      "transformer.h.23.post_attention_layernorm.bias False\n",
      "transformer.h.23.mlp.dense_h_to_4h.weight False\n",
      "transformer.h.23.mlp.dense_h_to_4h.bias False\n",
      "transformer.h.23.mlp.dense_4h_to_h.weight False\n",
      "transformer.h.23.mlp.dense_4h_to_h.bias False\n",
      "transformer.ln_f.weight False\n",
      "transformer.ln_f.bias False\n",
      "trainable params: 3,148,801 || all params: 562,363,393 || trainable%: 0.5599\n"
     ]
    }
   ],
   "source": [
    "# creating model\n",
    "model = AutoModelForCausalLM.from_pretrained(model_name_or_path)\n",
    "print(model)\n",
    "model = get_peft_model(model, peft_config, adapter_name='hrraa_adapter')\n",
    "model.print_trainable_parameters()"
   ]
  },
  {
   "cell_type": "code",
   "execution_count": 9,
   "id": "b2f91568",
   "metadata": {},
   "outputs": [],
   "source": [
    "# model\n",
    "# optimizer and lr scheduler\n",
    "optimizer = torch.optim.AdamW(model.parameters(), lr=lr)\n",
    "lr_scheduler = get_linear_schedule_with_warmup(\n",
    "    optimizer=optimizer,\n",
    "    num_warmup_steps=0,\n",
    "    num_training_steps=(len(train_dataloader) * num_epochs),\n",
    ")"
   ]
  },
  {
   "cell_type": "code",
   "execution_count": 10,
   "id": "e4fb69fc",
   "metadata": {},
   "outputs": [
    {
     "name": "stderr",
     "output_type": "stream",
     "text": [
      "100%|██████████| 7/7 [00:35<00:00,  5.13s/it]\n",
      "100%|██████████| 7/7 [00:25<00:00,  3.59s/it]\n"
     ]
    },
    {
     "name": "stdout",
     "output_type": "stream",
     "text": [
      "epoch=0: train_ppl=tensor(735.0363) train_epoch_loss=tensor(6.5999) eval_ppl=tensor(13.5604) eval_epoch_loss=tensor(2.6072)\n"
     ]
    },
    {
     "name": "stderr",
     "output_type": "stream",
     "text": [
      "100%|██████████| 7/7 [00:38<00:00,  5.44s/it]\n",
      "100%|██████████| 7/7 [00:28<00:00,  4.13s/it]\n"
     ]
    },
    {
     "name": "stdout",
     "output_type": "stream",
     "text": [
      "epoch=1: train_ppl=tensor(2.8879) train_epoch_loss=tensor(1.0605) eval_ppl=tensor(4.5802) eval_epoch_loss=tensor(1.5218)\n"
     ]
    },
    {
     "name": "stderr",
     "output_type": "stream",
     "text": [
      "100%|██████████| 7/7 [00:36<00:00,  5.26s/it]\n",
      "100%|██████████| 7/7 [00:24<00:00,  3.44s/it]\n"
     ]
    },
    {
     "name": "stdout",
     "output_type": "stream",
     "text": [
      "epoch=2: train_ppl=tensor(1.9781) train_epoch_loss=tensor(0.6821) eval_ppl=tensor(1.7830) eval_epoch_loss=tensor(0.5783)\n"
     ]
    },
    {
     "name": "stderr",
     "output_type": "stream",
     "text": [
      "100%|██████████| 7/7 [00:32<00:00,  4.68s/it]\n",
      "100%|██████████| 7/7 [00:20<00:00,  2.86s/it]\n"
     ]
    },
    {
     "name": "stdout",
     "output_type": "stream",
     "text": [
      "epoch=3: train_ppl=tensor(1.2648) train_epoch_loss=tensor(0.2349) eval_ppl=tensor(1.1611) eval_epoch_loss=tensor(0.1494)\n"
     ]
    },
    {
     "name": "stderr",
     "output_type": "stream",
     "text": [
      "100%|██████████| 7/7 [00:31<00:00,  4.49s/it]\n",
      "100%|██████████| 7/7 [00:19<00:00,  2.81s/it]\n"
     ]
    },
    {
     "name": "stdout",
     "output_type": "stream",
     "text": [
      "epoch=4: train_ppl=tensor(1.0953) train_epoch_loss=tensor(0.0910) eval_ppl=tensor(1.0946) eval_epoch_loss=tensor(0.0904)\n"
     ]
    },
    {
     "name": "stderr",
     "output_type": "stream",
     "text": [
      "100%|██████████| 7/7 [00:31<00:00,  4.49s/it]\n",
      "100%|██████████| 7/7 [00:20<00:00,  2.95s/it]\n"
     ]
    },
    {
     "name": "stdout",
     "output_type": "stream",
     "text": [
      "epoch=5: train_ppl=tensor(1.0945) train_epoch_loss=tensor(0.0903) eval_ppl=tensor(1.0289) eval_epoch_loss=tensor(0.0285)\n"
     ]
    },
    {
     "name": "stderr",
     "output_type": "stream",
     "text": [
      "100%|██████████| 7/7 [00:31<00:00,  4.44s/it]\n",
      "100%|██████████| 7/7 [00:19<00:00,  2.77s/it]\n"
     ]
    },
    {
     "name": "stdout",
     "output_type": "stream",
     "text": [
      "epoch=6: train_ppl=tensor(1.0563) train_epoch_loss=tensor(0.0548) eval_ppl=tensor(1.0121) eval_epoch_loss=tensor(0.0120)\n"
     ]
    },
    {
     "name": "stderr",
     "output_type": "stream",
     "text": [
      "100%|██████████| 7/7 [00:31<00:00,  4.55s/it]\n",
      "100%|██████████| 7/7 [00:19<00:00,  2.78s/it]\n"
     ]
    },
    {
     "name": "stdout",
     "output_type": "stream",
     "text": [
      "epoch=7: train_ppl=tensor(1.0267) train_epoch_loss=tensor(0.0264) eval_ppl=tensor(1.0173) eval_epoch_loss=tensor(0.0171)\n"
     ]
    },
    {
     "name": "stderr",
     "output_type": "stream",
     "text": [
      "100%|██████████| 7/7 [00:31<00:00,  4.48s/it]\n",
      "100%|██████████| 7/7 [00:19<00:00,  2.82s/it]\n"
     ]
    },
    {
     "name": "stdout",
     "output_type": "stream",
     "text": [
      "epoch=8: train_ppl=tensor(1.0107) train_epoch_loss=tensor(0.0106) eval_ppl=tensor(1.0066) eval_epoch_loss=tensor(0.0066)\n"
     ]
    },
    {
     "name": "stderr",
     "output_type": "stream",
     "text": [
      "100%|██████████| 7/7 [00:33<00:00,  4.82s/it]\n",
      "100%|██████████| 7/7 [00:20<00:00,  2.88s/it]\n"
     ]
    },
    {
     "name": "stdout",
     "output_type": "stream",
     "text": [
      "epoch=9: train_ppl=tensor(1.0109) train_epoch_loss=tensor(0.0109) eval_ppl=tensor(1.0059) eval_epoch_loss=tensor(0.0059)\n"
     ]
    },
    {
     "name": "stderr",
     "output_type": "stream",
     "text": [
      "100%|██████████| 7/7 [00:31<00:00,  4.49s/it]\n",
      "100%|██████████| 7/7 [00:20<00:00,  2.89s/it]\n"
     ]
    },
    {
     "name": "stdout",
     "output_type": "stream",
     "text": [
      "epoch=10: train_ppl=tensor(1.0030) train_epoch_loss=tensor(0.0030) eval_ppl=tensor(1.0027) eval_epoch_loss=tensor(0.0027)\n"
     ]
    },
    {
     "name": "stderr",
     "output_type": "stream",
     "text": [
      "100%|██████████| 7/7 [00:31<00:00,  4.49s/it]\n",
      "100%|██████████| 7/7 [00:19<00:00,  2.81s/it]\n"
     ]
    },
    {
     "name": "stdout",
     "output_type": "stream",
     "text": [
      "epoch=11: train_ppl=tensor(1.0031) train_epoch_loss=tensor(0.0031) eval_ppl=tensor(1.0030) eval_epoch_loss=tensor(0.0030)\n"
     ]
    },
    {
     "name": "stderr",
     "output_type": "stream",
     "text": [
      "100%|██████████| 7/7 [00:32<00:00,  4.66s/it]\n",
      "100%|██████████| 7/7 [00:19<00:00,  2.76s/it]\n"
     ]
    },
    {
     "name": "stdout",
     "output_type": "stream",
     "text": [
      "epoch=12: train_ppl=tensor(1.0025) train_epoch_loss=tensor(0.0025) eval_ppl=tensor(1.0016) eval_epoch_loss=tensor(0.0016)\n"
     ]
    },
    {
     "name": "stderr",
     "output_type": "stream",
     "text": [
      "100%|██████████| 7/7 [00:30<00:00,  4.42s/it]\n",
      "100%|██████████| 7/7 [00:19<00:00,  2.78s/it]\n"
     ]
    },
    {
     "name": "stdout",
     "output_type": "stream",
     "text": [
      "epoch=13: train_ppl=tensor(1.0014) train_epoch_loss=tensor(0.0014) eval_ppl=tensor(1.0012) eval_epoch_loss=tensor(0.0012)\n"
     ]
    },
    {
     "name": "stderr",
     "output_type": "stream",
     "text": [
      "100%|██████████| 7/7 [00:31<00:00,  4.46s/it]\n",
      "100%|██████████| 7/7 [00:19<00:00,  2.75s/it]\n"
     ]
    },
    {
     "name": "stdout",
     "output_type": "stream",
     "text": [
      "epoch=14: train_ppl=tensor(1.0014) train_epoch_loss=tensor(0.0014) eval_ppl=tensor(1.0012) eval_epoch_loss=tensor(0.0012)\n"
     ]
    },
    {
     "name": "stderr",
     "output_type": "stream",
     "text": [
      "100%|██████████| 7/7 [00:32<00:00,  4.63s/it]\n",
      "100%|██████████| 7/7 [00:19<00:00,  2.78s/it]\n"
     ]
    },
    {
     "name": "stdout",
     "output_type": "stream",
     "text": [
      "epoch=15: train_ppl=tensor(1.0013) train_epoch_loss=tensor(0.0013) eval_ppl=tensor(1.0011) eval_epoch_loss=tensor(0.0011)\n"
     ]
    },
    {
     "name": "stderr",
     "output_type": "stream",
     "text": [
      "100%|██████████| 7/7 [00:31<00:00,  4.55s/it]\n",
      "100%|██████████| 7/7 [00:19<00:00,  2.76s/it]\n"
     ]
    },
    {
     "name": "stdout",
     "output_type": "stream",
     "text": [
      "epoch=16: train_ppl=tensor(1.0012) train_epoch_loss=tensor(0.0012) eval_ppl=tensor(1.0009) eval_epoch_loss=tensor(0.0009)\n"
     ]
    },
    {
     "name": "stderr",
     "output_type": "stream",
     "text": [
      "100%|██████████| 7/7 [00:31<00:00,  4.52s/it]\n",
      "100%|██████████| 7/7 [00:21<00:00,  3.11s/it]\n"
     ]
    },
    {
     "name": "stdout",
     "output_type": "stream",
     "text": [
      "epoch=17: train_ppl=tensor(1.0009) train_epoch_loss=tensor(0.0009) eval_ppl=tensor(1.0008) eval_epoch_loss=tensor(0.0008)\n"
     ]
    },
    {
     "name": "stderr",
     "output_type": "stream",
     "text": [
      "100%|██████████| 7/7 [00:30<00:00,  4.41s/it]\n",
      "100%|██████████| 7/7 [00:19<00:00,  2.74s/it]\n"
     ]
    },
    {
     "name": "stdout",
     "output_type": "stream",
     "text": [
      "epoch=18: train_ppl=tensor(1.0009) train_epoch_loss=tensor(0.0009) eval_ppl=tensor(1.0007) eval_epoch_loss=tensor(0.0007)\n"
     ]
    },
    {
     "name": "stderr",
     "output_type": "stream",
     "text": [
      "100%|██████████| 7/7 [00:30<00:00,  4.42s/it]\n",
      "100%|██████████| 7/7 [00:19<00:00,  2.79s/it]\n"
     ]
    },
    {
     "name": "stdout",
     "output_type": "stream",
     "text": [
      "epoch=19: train_ppl=tensor(1.0007) train_epoch_loss=tensor(0.0007) eval_ppl=tensor(1.0007) eval_epoch_loss=tensor(0.0007)\n"
     ]
    },
    {
     "name": "stderr",
     "output_type": "stream",
     "text": [
      "100%|██████████| 7/7 [00:31<00:00,  4.49s/it]\n",
      "100%|██████████| 7/7 [00:19<00:00,  2.77s/it]\n"
     ]
    },
    {
     "name": "stdout",
     "output_type": "stream",
     "text": [
      "epoch=20: train_ppl=tensor(1.0009) train_epoch_loss=tensor(0.0009) eval_ppl=tensor(1.0007) eval_epoch_loss=tensor(0.0007)\n"
     ]
    },
    {
     "name": "stderr",
     "output_type": "stream",
     "text": [
      "100%|██████████| 7/7 [00:31<00:00,  4.54s/it]\n",
      "100%|██████████| 7/7 [00:19<00:00,  2.76s/it]\n"
     ]
    },
    {
     "name": "stdout",
     "output_type": "stream",
     "text": [
      "epoch=21: train_ppl=tensor(1.0006) train_epoch_loss=tensor(0.0006) eval_ppl=tensor(1.0006) eval_epoch_loss=tensor(0.0006)\n"
     ]
    },
    {
     "name": "stderr",
     "output_type": "stream",
     "text": [
      "100%|██████████| 7/7 [00:31<00:00,  4.51s/it]\n",
      "100%|██████████| 7/7 [00:19<00:00,  2.79s/it]\n"
     ]
    },
    {
     "name": "stdout",
     "output_type": "stream",
     "text": [
      "epoch=22: train_ppl=tensor(1.0007) train_epoch_loss=tensor(0.0007) eval_ppl=tensor(1.0006) eval_epoch_loss=tensor(0.0006)\n"
     ]
    },
    {
     "name": "stderr",
     "output_type": "stream",
     "text": [
      "100%|██████████| 7/7 [00:31<00:00,  4.48s/it]\n",
      "100%|██████████| 7/7 [00:19<00:00,  2.85s/it]\n"
     ]
    },
    {
     "name": "stdout",
     "output_type": "stream",
     "text": [
      "epoch=23: train_ppl=tensor(1.0006) train_epoch_loss=tensor(0.0006) eval_ppl=tensor(1.0006) eval_epoch_loss=tensor(0.0006)\n"
     ]
    },
    {
     "name": "stderr",
     "output_type": "stream",
     "text": [
      "100%|██████████| 7/7 [00:31<00:00,  4.44s/it]\n",
      "100%|██████████| 7/7 [00:19<00:00,  2.85s/it]\n"
     ]
    },
    {
     "name": "stdout",
     "output_type": "stream",
     "text": [
      "epoch=24: train_ppl=tensor(1.0006) train_epoch_loss=tensor(0.0006) eval_ppl=tensor(1.0005) eval_epoch_loss=tensor(0.0005)\n"
     ]
    },
    {
     "name": "stderr",
     "output_type": "stream",
     "text": [
      "100%|██████████| 7/7 [00:31<00:00,  4.48s/it]\n",
      "100%|██████████| 7/7 [00:23<00:00,  3.30s/it]\n"
     ]
    },
    {
     "name": "stdout",
     "output_type": "stream",
     "text": [
      "epoch=25: train_ppl=tensor(1.0005) train_epoch_loss=tensor(0.0005) eval_ppl=tensor(1.0005) eval_epoch_loss=tensor(0.0005)\n"
     ]
    },
    {
     "name": "stderr",
     "output_type": "stream",
     "text": [
      "100%|██████████| 7/7 [00:31<00:00,  4.53s/it]\n",
      "100%|██████████| 7/7 [00:19<00:00,  2.85s/it]\n"
     ]
    },
    {
     "name": "stdout",
     "output_type": "stream",
     "text": [
      "epoch=26: train_ppl=tensor(1.0007) train_epoch_loss=tensor(0.0007) eval_ppl=tensor(1.0005) eval_epoch_loss=tensor(0.0005)\n"
     ]
    },
    {
     "name": "stderr",
     "output_type": "stream",
     "text": [
      "100%|██████████| 7/7 [00:31<00:00,  4.55s/it]\n",
      "100%|██████████| 7/7 [00:23<00:00,  3.29s/it]\n"
     ]
    },
    {
     "name": "stdout",
     "output_type": "stream",
     "text": [
      "epoch=27: train_ppl=tensor(1.0006) train_epoch_loss=tensor(0.0006) eval_ppl=tensor(1.0005) eval_epoch_loss=tensor(0.0005)\n"
     ]
    },
    {
     "name": "stderr",
     "output_type": "stream",
     "text": [
      "100%|██████████| 7/7 [00:33<00:00,  4.78s/it]\n",
      "100%|██████████| 7/7 [00:19<00:00,  2.83s/it]\n"
     ]
    },
    {
     "name": "stdout",
     "output_type": "stream",
     "text": [
      "epoch=28: train_ppl=tensor(1.0005) train_epoch_loss=tensor(0.0005) eval_ppl=tensor(1.0005) eval_epoch_loss=tensor(0.0005)\n"
     ]
    },
    {
     "name": "stderr",
     "output_type": "stream",
     "text": [
      "100%|██████████| 7/7 [00:36<00:00,  5.17s/it]\n",
      "100%|██████████| 7/7 [00:21<00:00,  3.04s/it]\n"
     ]
    },
    {
     "name": "stdout",
     "output_type": "stream",
     "text": [
      "epoch=29: train_ppl=tensor(1.0004) train_epoch_loss=tensor(0.0004) eval_ppl=tensor(1.0004) eval_epoch_loss=tensor(0.0004)\n"
     ]
    },
    {
     "name": "stderr",
     "output_type": "stream",
     "text": [
      "100%|██████████| 7/7 [00:35<00:00,  5.00s/it]\n",
      "100%|██████████| 7/7 [00:24<00:00,  3.49s/it]\n"
     ]
    },
    {
     "name": "stdout",
     "output_type": "stream",
     "text": [
      "epoch=30: train_ppl=tensor(1.0006) train_epoch_loss=tensor(0.0006) eval_ppl=tensor(1.0004) eval_epoch_loss=tensor(0.0004)\n"
     ]
    },
    {
     "name": "stderr",
     "output_type": "stream",
     "text": [
      "100%|██████████| 7/7 [00:34<00:00,  4.91s/it]\n",
      "100%|██████████| 7/7 [00:21<00:00,  3.12s/it]\n"
     ]
    },
    {
     "name": "stdout",
     "output_type": "stream",
     "text": [
      "epoch=31: train_ppl=tensor(1.0006) train_epoch_loss=tensor(0.0006) eval_ppl=tensor(1.0004) eval_epoch_loss=tensor(0.0004)\n"
     ]
    },
    {
     "name": "stderr",
     "output_type": "stream",
     "text": [
      "100%|██████████| 7/7 [00:37<00:00,  5.39s/it]\n",
      "100%|██████████| 7/7 [00:19<00:00,  2.84s/it]\n"
     ]
    },
    {
     "name": "stdout",
     "output_type": "stream",
     "text": [
      "epoch=32: train_ppl=tensor(1.0004) train_epoch_loss=tensor(0.0004) eval_ppl=tensor(1.0004) eval_epoch_loss=tensor(0.0004)\n"
     ]
    },
    {
     "name": "stderr",
     "output_type": "stream",
     "text": [
      "100%|██████████| 7/7 [00:35<00:00,  5.03s/it]\n",
      "100%|██████████| 7/7 [00:21<00:00,  3.12s/it]\n"
     ]
    },
    {
     "name": "stdout",
     "output_type": "stream",
     "text": [
      "epoch=33: train_ppl=tensor(1.0006) train_epoch_loss=tensor(0.0006) eval_ppl=tensor(1.0004) eval_epoch_loss=tensor(0.0004)\n"
     ]
    },
    {
     "name": "stderr",
     "output_type": "stream",
     "text": [
      "100%|██████████| 7/7 [00:40<00:00,  5.79s/it]\n",
      "100%|██████████| 7/7 [00:24<00:00,  3.45s/it]\n"
     ]
    },
    {
     "name": "stdout",
     "output_type": "stream",
     "text": [
      "epoch=34: train_ppl=tensor(1.0004) train_epoch_loss=tensor(0.0004) eval_ppl=tensor(1.0004) eval_epoch_loss=tensor(0.0004)\n"
     ]
    },
    {
     "name": "stderr",
     "output_type": "stream",
     "text": [
      "100%|██████████| 7/7 [00:37<00:00,  5.40s/it]\n",
      "100%|██████████| 7/7 [00:20<00:00,  2.94s/it]\n"
     ]
    },
    {
     "name": "stdout",
     "output_type": "stream",
     "text": [
      "epoch=35: train_ppl=tensor(1.0005) train_epoch_loss=tensor(0.0005) eval_ppl=tensor(1.0004) eval_epoch_loss=tensor(0.0004)\n"
     ]
    },
    {
     "name": "stderr",
     "output_type": "stream",
     "text": [
      "100%|██████████| 7/7 [00:35<00:00,  5.03s/it]\n",
      "100%|██████████| 7/7 [00:22<00:00,  3.16s/it]\n"
     ]
    },
    {
     "name": "stdout",
     "output_type": "stream",
     "text": [
      "epoch=36: train_ppl=tensor(1.0004) train_epoch_loss=tensor(0.0004) eval_ppl=tensor(1.0004) eval_epoch_loss=tensor(0.0004)\n"
     ]
    },
    {
     "name": "stderr",
     "output_type": "stream",
     "text": [
      "100%|██████████| 7/7 [00:34<00:00,  4.94s/it]\n",
      "100%|██████████| 7/7 [00:20<00:00,  2.94s/it]\n"
     ]
    },
    {
     "name": "stdout",
     "output_type": "stream",
     "text": [
      "epoch=37: train_ppl=tensor(1.0004) train_epoch_loss=tensor(0.0004) eval_ppl=tensor(1.0004) eval_epoch_loss=tensor(0.0004)\n"
     ]
    },
    {
     "name": "stderr",
     "output_type": "stream",
     "text": [
      "100%|██████████| 7/7 [00:34<00:00,  4.96s/it]\n",
      "100%|██████████| 7/7 [00:20<00:00,  2.95s/it]\n"
     ]
    },
    {
     "name": "stdout",
     "output_type": "stream",
     "text": [
      "epoch=38: train_ppl=tensor(1.0004) train_epoch_loss=tensor(0.0004) eval_ppl=tensor(1.0004) eval_epoch_loss=tensor(0.0004)\n"
     ]
    },
    {
     "name": "stderr",
     "output_type": "stream",
     "text": [
      "100%|██████████| 7/7 [00:34<00:00,  4.92s/it]\n",
      "100%|██████████| 7/7 [00:20<00:00,  2.99s/it]\n"
     ]
    },
    {
     "name": "stdout",
     "output_type": "stream",
     "text": [
      "epoch=39: train_ppl=tensor(1.0004) train_epoch_loss=tensor(0.0004) eval_ppl=tensor(1.0003) eval_epoch_loss=tensor(0.0003)\n"
     ]
    },
    {
     "name": "stderr",
     "output_type": "stream",
     "text": [
      "100%|██████████| 7/7 [00:33<00:00,  4.76s/it]\n",
      "100%|██████████| 7/7 [00:22<00:00,  3.17s/it]\n"
     ]
    },
    {
     "name": "stdout",
     "output_type": "stream",
     "text": [
      "epoch=40: train_ppl=tensor(1.0004) train_epoch_loss=tensor(0.0004) eval_ppl=tensor(1.0003) eval_epoch_loss=tensor(0.0003)\n"
     ]
    },
    {
     "name": "stderr",
     "output_type": "stream",
     "text": [
      "100%|██████████| 7/7 [00:33<00:00,  4.80s/it]\n",
      "100%|██████████| 7/7 [00:19<00:00,  2.75s/it]\n"
     ]
    },
    {
     "name": "stdout",
     "output_type": "stream",
     "text": [
      "epoch=41: train_ppl=tensor(1.0005) train_epoch_loss=tensor(0.0005) eval_ppl=tensor(1.0003) eval_epoch_loss=tensor(0.0003)\n"
     ]
    },
    {
     "name": "stderr",
     "output_type": "stream",
     "text": [
      "100%|██████████| 7/7 [00:30<00:00,  4.39s/it]\n",
      "100%|██████████| 7/7 [00:24<00:00,  3.50s/it]\n"
     ]
    },
    {
     "name": "stdout",
     "output_type": "stream",
     "text": [
      "epoch=42: train_ppl=tensor(1.0003) train_epoch_loss=tensor(0.0003) eval_ppl=tensor(1.0003) eval_epoch_loss=tensor(0.0003)\n"
     ]
    },
    {
     "name": "stderr",
     "output_type": "stream",
     "text": [
      "100%|██████████| 7/7 [00:37<00:00,  5.31s/it]\n",
      "100%|██████████| 7/7 [00:24<00:00,  3.51s/it]\n"
     ]
    },
    {
     "name": "stdout",
     "output_type": "stream",
     "text": [
      "epoch=43: train_ppl=tensor(1.0003) train_epoch_loss=tensor(0.0003) eval_ppl=tensor(1.0003) eval_epoch_loss=tensor(0.0003)\n"
     ]
    },
    {
     "name": "stderr",
     "output_type": "stream",
     "text": [
      "100%|██████████| 7/7 [00:42<00:00,  6.06s/it]\n",
      "100%|██████████| 7/7 [00:27<00:00,  3.93s/it]\n"
     ]
    },
    {
     "name": "stdout",
     "output_type": "stream",
     "text": [
      "epoch=44: train_ppl=tensor(1.0003) train_epoch_loss=tensor(0.0003) eval_ppl=tensor(1.0003) eval_epoch_loss=tensor(0.0003)\n"
     ]
    },
    {
     "name": "stderr",
     "output_type": "stream",
     "text": [
      "100%|██████████| 7/7 [00:38<00:00,  5.49s/it]\n",
      "100%|██████████| 7/7 [00:21<00:00,  3.12s/it]\n"
     ]
    },
    {
     "name": "stdout",
     "output_type": "stream",
     "text": [
      "epoch=45: train_ppl=tensor(1.0003) train_epoch_loss=tensor(0.0003) eval_ppl=tensor(1.0003) eval_epoch_loss=tensor(0.0003)\n"
     ]
    },
    {
     "name": "stderr",
     "output_type": "stream",
     "text": [
      "100%|██████████| 7/7 [00:34<00:00,  4.97s/it]\n",
      "100%|██████████| 7/7 [00:22<00:00,  3.22s/it]\n"
     ]
    },
    {
     "name": "stdout",
     "output_type": "stream",
     "text": [
      "epoch=46: train_ppl=tensor(1.0004) train_epoch_loss=tensor(0.0004) eval_ppl=tensor(1.0003) eval_epoch_loss=tensor(0.0003)\n"
     ]
    },
    {
     "name": "stderr",
     "output_type": "stream",
     "text": [
      "100%|██████████| 7/7 [00:41<00:00,  5.89s/it]\n",
      "100%|██████████| 7/7 [00:23<00:00,  3.36s/it]\n"
     ]
    },
    {
     "name": "stdout",
     "output_type": "stream",
     "text": [
      "epoch=47: train_ppl=tensor(1.0003) train_epoch_loss=tensor(0.0003) eval_ppl=tensor(1.0003) eval_epoch_loss=tensor(0.0003)\n"
     ]
    },
    {
     "name": "stderr",
     "output_type": "stream",
     "text": [
      "100%|██████████| 7/7 [00:39<00:00,  5.62s/it]\n",
      "100%|██████████| 7/7 [00:24<00:00,  3.43s/it]\n"
     ]
    },
    {
     "name": "stdout",
     "output_type": "stream",
     "text": [
      "epoch=48: train_ppl=tensor(1.0004) train_epoch_loss=tensor(0.0004) eval_ppl=tensor(1.0003) eval_epoch_loss=tensor(0.0003)\n"
     ]
    },
    {
     "name": "stderr",
     "output_type": "stream",
     "text": [
      "100%|██████████| 7/7 [00:40<00:00,  5.76s/it]\n",
      "100%|██████████| 7/7 [00:22<00:00,  3.20s/it]"
     ]
    },
    {
     "name": "stdout",
     "output_type": "stream",
     "text": [
      "epoch=49: train_ppl=tensor(1.0003) train_epoch_loss=tensor(0.0003) eval_ppl=tensor(1.0003) eval_epoch_loss=tensor(0.0003)\n"
     ]
    },
    {
     "name": "stderr",
     "output_type": "stream",
     "text": [
      "\n"
     ]
    }
   ],
   "source": [
    "# training and evaluation\n",
    "model = model.to(device)\n",
    "\n",
    "for epoch in range(num_epochs):\n",
    "    model.train()\n",
    "    total_loss = 0\n",
    "    for step, batch in enumerate(tqdm(train_dataloader)):\n",
    "        batch = {k: v.to(device) for k, v in batch.items()}\n",
    "        #         print(batch)\n",
    "        #         print(batch[\"input_ids\"].shape)\n",
    "        outputs = model(**batch)\n",
    "        loss = outputs.loss\n",
    "        total_loss += loss.detach().float()\n",
    "        loss.backward()\n",
    "        optimizer.step()\n",
    "        lr_scheduler.step()\n",
    "        optimizer.zero_grad()\n",
    "\n",
    "    model.eval()\n",
    "    eval_loss = 0\n",
    "    eval_preds = []\n",
    "    for step, batch in enumerate(tqdm(eval_dataloader)):\n",
    "        batch = {k: v.to(device) for k, v in batch.items()}\n",
    "        with torch.no_grad():\n",
    "            outputs = model(**batch)\n",
    "        loss = outputs.loss\n",
    "        eval_loss += loss.detach().float()\n",
    "        eval_preds.extend(\n",
    "            tokenizer.batch_decode(torch.argmax(outputs.logits, -1).detach().cpu().numpy(), skip_special_tokens=True)\n",
    "        )\n",
    "\n",
    "    eval_epoch_loss = eval_loss / len(eval_dataloader)\n",
    "    eval_ppl = torch.exp(eval_epoch_loss)\n",
    "    train_epoch_loss = total_loss / len(train_dataloader)\n",
    "    train_ppl = torch.exp(train_epoch_loss)\n",
    "    print(f\"{epoch=}: {train_ppl=} {train_epoch_loss=} {eval_ppl=} {eval_epoch_loss=}\")"
   ]
  },
  {
   "cell_type": "code",
   "execution_count": 12,
   "id": "53752a7b",
   "metadata": {},
   "outputs": [
    {
     "name": "stdout",
     "output_type": "stream",
     "text": [
      "Hey @nytimes your link to cancel my subscription isn't working and nobody is answering the chat. Please don't play that kind of stupid game.\n",
      "{'input_ids': tensor([[227985,   5484,    915,  54078,   2566,   7782,  24502,   2632,   8989,\n",
      "            427,  36992,   2670, 140711,  21994,  10789,    530,  88399,    632,\n",
      "         183542,    368,  44799,     17,  29901,   5926,   7229,    861,  11596,\n",
      "            461,  78851,  14775,     17,  77658,    915,    210]]), 'attention_mask': tensor([[1, 1, 1, 1, 1, 1, 1, 1, 1, 1, 1, 1, 1, 1, 1, 1, 1, 1, 1, 1, 1, 1, 1, 1,\n",
      "         1, 1, 1, 1, 1, 1, 1, 1, 1, 1]])}\n",
      "tensor([[227985,   5484,    915,  54078,   2566,   7782,  24502,   2632,   8989,\n",
      "            427,  36992,   2670, 140711,  21994,  10789,    530,  88399,    632,\n",
      "         183542,    368,  44799,     17,  29901,   5926,   7229,    861,  11596,\n",
      "            461,  78851,  14775,     17,  77658,    915,    210,  16449,   5952,\n",
      "              2]])\n",
      "[\"Tweet text : Hey @nytimes your link to cancel my subscription isn't working and nobody is answering the chat. Please don't play that kind of stupid game. Label : complaint</s>\"]\n"
     ]
    }
   ],
   "source": [
    "model.eval()\n",
    "i = 16\n",
    "inputs = tokenizer(f'{text_column} : {dataset[\"test\"][i][\"Tweet text\"]} Label : ', return_tensors=\"pt\")\n",
    "print(dataset[\"test\"][i][\"Tweet text\"])\n",
    "print(inputs)\n",
    "\n",
    "with torch.no_grad():\n",
    "    inputs = {k: v.to(device) for k, v in inputs.items()}\n",
    "    outputs = model.generate(\n",
    "        input_ids=inputs[\"input_ids\"], attention_mask=inputs[\"attention_mask\"], max_new_tokens=10, eos_token_id=2\n",
    "    )\n",
    "    print(outputs)\n",
    "    print(tokenizer.batch_decode(outputs.detach().cpu().numpy(), skip_special_tokens=False))"
   ]
  },
  {
   "cell_type": "markdown",
   "id": "c8f35152",
   "metadata": {},
   "source": [
    "You can push model to hub or save model locally. \n",
    "\n",
    "- Option1: Pushing the model to Hugging Face Hub\n",
    "```python\n",
    "model.push_to_hub(\n",
    "    f\"{dataset_name}_{model_name_or_path}_{peft_config.peft_type}_{peft_config.task_type}\".replace(\"/\", \"_\"),\n",
    "    token = \"hf_...\"\n",
    ")\n",
    "```\n",
    "token (`bool` or `str`, *optional*):\n",
    "    `token` is to be used for HTTP Bearer authorization when accessing remote files. If `True`, will use the token generated\n",
    "    when running `huggingface-cli login` (stored in `~/.huggingface`). Will default to `True` if `repo_url`\n",
    "    is not specified.\n",
    "    Or you can get your token from https://huggingface.co/settings/token\n",
    "```\n",
    "- Or save model locally\n",
    "```python\n",
    "peft_model_id = f\"{dataset_name}_{model_name_or_path}_{peft_config.peft_type}_{peft_config.task_type}\".replace(\"/\", \"_\")\n",
    "model.save_pretrained(peft_model_id)\n",
    "```"
   ]
  },
  {
   "cell_type": "code",
   "execution_count": null,
   "id": "d8ba1f8c",
   "metadata": {},
   "outputs": [],
   "source": [
    "# saving model\n",
    "peft_model_id = f\"{dataset_name}_{model_name_or_path}_{peft_config.peft_type}_{peft_config.task_type}\".replace(\n",
    "    \"/\", \"_\"\n",
    ")\n",
    "model.save_pretrained(peft_model_id)"
   ]
  },
  {
   "cell_type": "code",
   "execution_count": null,
   "id": "4928c7f1",
   "metadata": {},
   "outputs": [],
   "source": [
    "ckpt = f\"{peft_model_id}/adapter_model.bin\"\n",
    "!du -h $ckpt"
   ]
  },
  {
   "cell_type": "code",
   "execution_count": null,
   "id": "4d9476e1",
   "metadata": {},
   "outputs": [],
   "source": [
    "from peft import PeftModel, PeftConfig\n",
    "\n",
    "peft_model_id = f\"{dataset_name}_{model_name_or_path}_{peft_config.peft_type}_{peft_config.task_type}\".replace(\n",
    "    \"/\", \"_\"\n",
    ")\n",
    "\n",
    "config = PeftConfig.from_pretrained(peft_model_id)\n",
    "model = AutoModelForCausalLM.from_pretrained(config.base_model_name_or_path)\n",
    "model = PeftModel.from_pretrained(model, peft_model_id)"
   ]
  },
  {
   "cell_type": "code",
   "execution_count": null,
   "id": "ebe174a6",
   "metadata": {},
   "outputs": [],
   "source": [
    "model.to(device)\n",
    "model.eval()\n",
    "i = 4\n",
    "inputs = tokenizer(f'{text_column} : {dataset[\"test\"][i][\"Tweet text\"]} Label : ', return_tensors=\"pt\")\n",
    "print(dataset[\"test\"][i][\"Tweet text\"])\n",
    "print(inputs)\n",
    "\n",
    "with torch.no_grad():\n",
    "    inputs = {k: v.to(device) for k, v in inputs.items()}\n",
    "    outputs = model.generate(\n",
    "        input_ids=inputs[\"input_ids\"], attention_mask=inputs[\"attention_mask\"], max_new_tokens=10, eos_token_id=3\n",
    "    )\n",
    "    print(outputs)\n",
    "    print(tokenizer.batch_decode(outputs.detach().cpu().numpy(), skip_special_tokens=True))"
   ]
  },
  {
   "cell_type": "code",
   "execution_count": null,
   "metadata": {},
   "outputs": [],
   "source": [
    "print(model)"
   ]
  },
  {
   "cell_type": "code",
   "execution_count": 13,
   "metadata": {},
   "outputs": [
    {
     "data": {
      "text/plain": [
       "Parameter containing:\n",
       "tensor([0.3230], requires_grad=True)"
      ]
     },
     "execution_count": 13,
     "metadata": {},
     "output_type": "execute_result"
    }
   ],
   "source": [
    "model.base_model.transformer.h[23].self_attention.hrraa_adaption_gate"
   ]
  },
  {
   "cell_type": "code",
   "execution_count": null,
   "id": "d38f230b",
   "metadata": {},
   "outputs": [],
   "source": []
  }
 ],
 "metadata": {
  "kernelspec": {
   "display_name": "babylm2024",
   "language": "python",
   "name": "python3"
  },
  "language_info": {
   "codemirror_mode": {
    "name": "ipython",
    "version": 3
   },
   "file_extension": ".py",
   "mimetype": "text/x-python",
   "name": "python",
   "nbconvert_exporter": "python",
   "pygments_lexer": "ipython3",
   "version": "3.10.14"
  }
 },
 "nbformat": 4,
 "nbformat_minor": 5
}
